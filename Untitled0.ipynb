{
  "nbformat": 4,
  "nbformat_minor": 0,
  "metadata": {
    "colab": {
      "provenance": [],
      "authorship_tag": "ABX9TyPrshLPnZTiXvc3c8YVWixX",
      "include_colab_link": true
    },
    "kernelspec": {
      "name": "python3",
      "display_name": "Python 3"
    },
    "language_info": {
      "name": "python"
    }
  },
  "cells": [
    {
      "cell_type": "markdown",
      "metadata": {
        "id": "view-in-github",
        "colab_type": "text"
      },
      "source": [
        "<a href=\"https://colab.research.google.com/github/GabrielReis416/Desafio.github.io/blob/main/Untitled0.ipynb\" target=\"_parent\"><img src=\"https://colab.research.google.com/assets/colab-badge.svg\" alt=\"Open In Colab\"/></a>"
      ]
    },
    {
      "cell_type": "code",
      "source": [
        "#1) Faça um programa em Python que receba três números e calcule a soma deles\n",
        "\n",
        "a = 10\n",
        "b = 20\n",
        "c = 30\n",
        "soma = a + b + c\n",
        "print(soma)"
      ],
      "metadata": {
        "colab": {
          "base_uri": "https://localhost:8080/"
        },
        "id": "Q88Y0oduJoJX",
        "outputId": "7153293e-1702-4e4d-f33d-eadc3269956c"
      },
      "execution_count": 1,
      "outputs": [
        {
          "output_type": "stream",
          "name": "stdout",
          "text": [
            "60\n"
          ]
        }
      ]
    },
    {
      "cell_type": "code",
      "source": [
        "# 2) Faça um programa em Python que leia dois números inteiros e imprima  média aritmética entre esses dois valores.\n",
        "\n",
        "a = int(input(\"Digite um numero Inteiro: \"));\n",
        "b = int(input(\"Digite um numero Inteiro: \"));\n",
        "c = (a + b) / 2\n",
        "print(c)\n"
      ],
      "metadata": {
        "colab": {
          "base_uri": "https://localhost:8080/"
        },
        "id": "XCgCl9ZtKEbN",
        "outputId": "272b9472-d4ce-4df6-f92c-d24128129fd9"
      },
      "execution_count": 24,
      "outputs": [
        {
          "output_type": "stream",
          "name": "stdout",
          "text": [
            "Digite um numero Inteiro: 2\n",
            "Digite um numero Inteiro: 2\n",
            "2.0\n"
          ]
        }
      ]
    },
    {
      "cell_type": "code",
      "source": [
        "#3) Faça um programa em Python que calcule a área do triângulo e apresente o resultado\n",
        "a = int(input(\"Digite o valor da base : \"));\n",
        "b = int(input(\"Digite o valor da altura : \"));\n",
        "c = (a *b) / 2\n",
        "print(c)\n"
      ],
      "metadata": {
        "colab": {
          "base_uri": "https://localhost:8080/"
        },
        "id": "eBXVQ5XfNl70",
        "outputId": "fadbbdc0-d4aa-4fdf-ac7e-d51715c2b7f9"
      },
      "execution_count": 25,
      "outputs": [
        {
          "output_type": "stream",
          "name": "stdout",
          "text": [
            "Digite o valor da base : 10\n",
            "Digite o valor da altura : 20\n",
            "100.0\n"
          ]
        }
      ]
    },
    {
      "cell_type": "code",
      "source": [
        "#4) Faça um programa em Python que receba o valor de uma conta e um percentual de desconto. Calcule o novo valor da conta ao ser aplicado, o\n",
        "#percentual de desconto e escreva o resultado obtido.\n",
        "\n",
        "valor = int(input(\"Digite o valor do Produto :\"));\n",
        "desc = int(input(\"Digite o valor do desconto :\"));\n",
        "novo = valor - (valor * desc / 100)\n",
        "print(novo)"
      ],
      "metadata": {
        "colab": {
          "base_uri": "https://localhost:8080/"
        },
        "id": "_aiRT3kCaFSy",
        "outputId": "54a839d1-8d37-4e8a-b41e-13aacbd7bb1f"
      },
      "execution_count": 28,
      "outputs": [
        {
          "output_type": "stream",
          "name": "stdout",
          "text": [
            "Digite o valor do Produto :100\n",
            "Digite o valor do desconto :10\n",
            "90.0\n"
          ]
        }
      ]
    },
    {
      "cell_type": "code",
      "source": [
        "#5) Faça um programa em Python que receba o valor de um salário e um percentual de reajuste. Calcule o valor do novo salário reajustado.\n",
        "\n",
        "salario = int(input(\"Digite o valor do salario :\"));\n",
        "reajuste = int(input(\"Digite o valor do reajuste :\"));\n",
        "novo = salario + (salario * reajuste / 100)\n",
        "print(novo)\n"
      ],
      "metadata": {
        "id": "MHZ9HZfAb0my"
      },
      "execution_count": null,
      "outputs": []
    },
    {
      "cell_type": "code",
      "source": [
        "#6)  #Faça um programa em Python que leia o número de eleitores de um município, o número de votos em branco, nulos e válidos. Calcular e\n",
        "#escrever o percentual que cada um representa em relação ao total de leitores, isto é, o percentual de votos brancos, percentual de votos nulos e o\n",
        "#percentual de votos válidos.\n",
        "\n",
        "n1 = int(input(\"digite o numero de eleitores :\"))\n",
        "n2 = int(input(\"digite o numero de votos validos :\"))\n",
        "n3 = int(input(\"digite o numero de votos nulos :\"))\n",
        "n4 = int(input(\"digite o numero de votos brancos :\"))\n",
        "v = (n2 / n1) / 100\n",
        "print(v)\n",
        "n = (n3 / n1) / 100\n",
        "print(n)\n",
        "b = (n4 / n1) / 100\n",
        "print(b)\n"
      ],
      "metadata": {
        "colab": {
          "base_uri": "https://localhost:8080/"
        },
        "id": "7SCTy7TscenB",
        "outputId": "c6eaf8dd-2508-4973-8bb7-e663f0bf422b"
      },
      "execution_count": 33,
      "outputs": [
        {
          "output_type": "stream",
          "name": "stdout",
          "text": [
            "digite o numero de eleitores :100\n",
            "digite o numero de votos validos :80\n",
            "digite o numero de votos nulos :10\n",
            "digite o numero de votos brancos :10\n",
            "0.008\n",
            "0.001\n",
            "0.001\n"
          ]
        }
      ]
    }
  ]
}